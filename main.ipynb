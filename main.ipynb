{
 "cells": [
  {
   "cell_type": "code",
   "execution_count": 1,
   "metadata": {},
   "outputs": [
    {
     "name": "stderr",
     "output_type": "stream",
     "text": [
      "/Users/midhunpk/anaconda3/lib/python3.6/site-packages/h5py/__init__.py:34: FutureWarning: Conversion of the second argument of issubdtype from `float` to `np.floating` is deprecated. In future, it will be treated as `np.float64 == np.dtype(float).type`.\n",
      "  from ._conv import register_converters as _register_converters\n"
     ]
    }
   ],
   "source": [
    "import tensorflow as tf\n",
    "import time"
   ]
  },
  {
   "cell_type": "code",
   "execution_count": 87,
   "metadata": {},
   "outputs": [],
   "source": [
    "from alpha import iterate_minibatches\n",
    "from cnn_utils import  conv_layer, fc_layer"
   ]
  },
  {
   "cell_type": "code",
   "execution_count": 71,
   "metadata": {},
   "outputs": [],
   "source": [
    "from utils import batch_all_triplet_loss\n",
    "from utils import batch_hard_triplet_loss"
   ]
  },
  {
   "cell_type": "code",
   "execution_count": 141,
   "metadata": {
    "collapsed": true
   },
   "outputs": [],
   "source": [
    "from tqdm import tqdm\n",
    "import os, cv2, random\n",
    "import numpy as np\n",
    "\n",
    "num_data = 500\n",
    "IMG_SIZE = 99\n",
    "data = []\n",
    "labels = []\n",
    "DIR = './train'\n",
    "for directory in os.listdir(DIR):\n",
    "    if not directory.startswith('.'):\n",
    "        path1 = os.path.join(DIR, directory)\n",
    "        for i, img in enumerate(os.listdir(path1)):\n",
    "            if not img.startswith('.'):\n",
    "                if i < num_data:\n",
    "                    path2 = os.path.join(path1, img)\n",
    "                    img = cv2.imread(path2)\n",
    "                    img = cv2.cvtColor(img, cv2.COLOR_BGR2RGB)\n",
    "                    img = cv2.resize(img, (IMG_SIZE,IMG_SIZE))\n",
    "                    labels.append([np.array(directory)])\n",
    "                    data.append([np.array(img)])\n",
    "#print(\"{0} Files loaded from each classes\".format(i+1))\n",
    "random.Random(1).shuffle(data)\n",
    "random.Random(1).shuffle(labels)\n",
    "train = np.array(data).reshape(-1,IMG_SIZE,IMG_SIZE,3)\n",
    "label = np.array(labels)"
   ]
  },
  {
   "cell_type": "code",
   "execution_count": 142,
   "metadata": {
    "collapsed": true
   },
   "outputs": [],
   "source": [
    "def saveGraph(graph):\n",
    "    with tf.Session(graph=graph) as sess:\n",
    "        filename = \"./summary_log/VS-\"+time.strftime(\"%H%M%S\")\n",
    "        writer = tf.summary.FileWriter(filename, sess.graph)\n",
    "    print(\"Tensorboard summary saved to \"+filename) "
   ]
  },
  {
   "cell_type": "code",
   "execution_count": 143,
   "metadata": {},
   "outputs": [],
   "source": [
    "graph1 = tf.Graph()"
   ]
  },
  {
   "cell_type": "code",
   "execution_count": 144,
   "metadata": {},
   "outputs": [],
   "source": [
    "with graph1.as_default():\n",
    "    X = tf.placeholder(tf.float32, [None, 99, 99, 3])\n",
    "    Y = tf.placeholder(tf.float32, [None, 1])"
   ]
  },
  {
   "cell_type": "code",
   "execution_count": 145,
   "metadata": {},
   "outputs": [],
   "source": [
    "with graph1.as_default(): \n",
    "    conv1 = conv_layer(X,     3,  8,  \"conv1\")\n",
    "    conv_out = conv_layer(conv1, 8,  16, \"conv2\") \n",
    "    flattened = tf.reshape(conv_out, [-1, 25*25*16])\n",
    "    embeddings = fc_layer(flattened, 25*25*16, 128, \"fc1\")\n",
    "    embedding_mean_norm = tf.reduce_mean(tf.norm(embeddings, axis=1))\n",
    "    tf.summary.scalar(\"embedding_mean_norm\", embedding_mean_norm)"
   ]
  },
  {
   "cell_type": "code",
   "execution_count": 147,
   "metadata": {
    "collapsed": true
   },
   "outputs": [],
   "source": [
    "with graph1.as_default(): \n",
    "    labels = tf.cast(Y, tf.int64)\n",
    "    \n",
    "    loss, _ = batch_all_triplet_loss(labels, embeddings, margin=2,\n",
    "                                                squared=False)\n",
    "    optimizer = tf.train.AdamOptimizer(learning_rate)\n",
    "    global_step = tf.train.get_global_step()\n",
    "    train_op = optimizer.minimize(loss, global_step=global_step)"
   ]
  },
  {
   "cell_type": "code",
   "execution_count": 139,
   "metadata": {},
   "outputs": [
    {
     "name": "stdout",
     "output_type": "stream",
     "text": [
      "Tensorboard summary saved to ./summary_log/VS-004843\n"
     ]
    }
   ],
   "source": [
    "saveGraph(graph1)"
   ]
  },
  {
   "cell_type": "code",
   "execution_count": 154,
   "metadata": {},
   "outputs": [
    {
     "name": "stdout",
     "output_type": "stream",
     "text": [
      "INFO:tensorflow:Restoring parameters from ./saved_model/model\n",
      "Cost after iteration  1.946570 \n",
      "Cost after iteration  1.852927 \n",
      "Cost after iteration  1.887784 \n",
      "Cost after iteration  1.879557 \n",
      "Cost after iteration  1.831576 \n",
      "Cost after iteration  1.896723 \n",
      "Cost after iteration  1.925701 \n",
      "Cost after iteration  1.880217 \n",
      "Cost after iteration  1.782266 \n",
      "Cost after iteration  1.822081 \n"
     ]
    }
   ],
   "source": [
    "minibatch_size = 8\n",
    "epoch = 10\n",
    "learning_rate = 0.001\n",
    "\n",
    "with tf.Session(graph=graph1) as sess:\n",
    "    sess.run(tf.global_variables_initializer())\n",
    "    saver = tf.train.Saver()\n",
    "    saver.restore(sess, tf.train.latest_checkpoint('./saved_model/'))\n",
    "    for epoch in range(epoch):\n",
    "        avg_cost = 0\n",
    "        for i, minibatch in enumerate(iterate_minibatches(train, label, minibatch_size)):\n",
    "            (minibatch_X, minibatch_Y) = minibatch\n",
    "            \n",
    "            sess.run(train_op, feed_dict={X: minibatch_X, Y: minibatch_Y})\n",
    "            \n",
    "            avg_cost += sess.run(loss, feed_dict={X: minibatch_X, Y: minibatch_Y})\n",
    "\n",
    "        print (\"Cost after iteration  %f \" % ( avg_cost/(i+1)))\n",
    "    saver.save(sess, \"./saved_model/model\", global_step=global_step)"
   ]
  },
  {
   "cell_type": "code",
   "execution_count": 163,
   "metadata": {},
   "outputs": [],
   "source": [
    "data = pd.read_csv('./test/small-2oq-c1r.csv', nrows=2000)"
   ]
  },
  {
   "cell_type": "code",
   "execution_count": 164,
   "metadata": {},
   "outputs": [
    {
     "data": {
      "text/html": [
       "<div>\n",
       "<style scoped>\n",
       "    .dataframe tbody tr th:only-of-type {\n",
       "        vertical-align: middle;\n",
       "    }\n",
       "\n",
       "    .dataframe tbody tr th {\n",
       "        vertical-align: top;\n",
       "    }\n",
       "\n",
       "    .dataframe thead th {\n",
       "        text-align: right;\n",
       "    }\n",
       "</style>\n",
       "<table border=\"1\" class=\"dataframe\">\n",
       "  <thead>\n",
       "    <tr style=\"text-align: right;\">\n",
       "      <th></th>\n",
       "      <th>productId</th>\n",
       "      <th>title</th>\n",
       "      <th>description</th>\n",
       "      <th>imageUrlStr</th>\n",
       "      <th>mrp</th>\n",
       "      <th>sellingPrice</th>\n",
       "      <th>specialPrice</th>\n",
       "      <th>productUrl</th>\n",
       "      <th>categories</th>\n",
       "      <th>productBrand</th>\n",
       "      <th>...</th>\n",
       "      <th>keySpecsStr</th>\n",
       "      <th>detailedSpecsStr</th>\n",
       "      <th>specificationList</th>\n",
       "      <th>sellerName</th>\n",
       "      <th>sellerAverageRating</th>\n",
       "      <th>sellerNoOfRatings</th>\n",
       "      <th>sellerNoOfReviews</th>\n",
       "      <th>sleeve</th>\n",
       "      <th>neck</th>\n",
       "      <th>idealFor</th>\n",
       "    </tr>\n",
       "  </thead>\n",
       "  <tbody>\n",
       "    <tr>\n",
       "      <th>0</th>\n",
       "      <td>SPWE7T5EF93UGMZZ</td>\n",
       "      <td>Smilzo Saree Panty Slp/2808 Women's Shapewear</td>\n",
       "      <td>The wide and comfortable of Fashion Shapewears...</td>\n",
       "      <td>http://img.fkcdn.com/image/shapewear/x/7/7/slp...</td>\n",
       "      <td>799.0</td>\n",
       "      <td>798.0</td>\n",
       "      <td>798.0</td>\n",
       "      <td>http://dl.flipkart.com/dl/smilzo-saree-panty-s...</td>\n",
       "      <td>Apparels&gt;Women&gt;Lingerie &amp; Sleepwear&gt;Shapewears</td>\n",
       "      <td>Smilzo</td>\n",
       "      <td>...</td>\n",
       "      <td>Type: Shapewear Briefs;Women's Shapewear;Fabri...</td>\n",
       "      <td>Type: Shapewear Briefs;Women's Shapewear;Fabri...</td>\n",
       "      <td>NaN</td>\n",
       "      <td>SHAPING SYSTEMS INDIA PVT LTD</td>\n",
       "      <td>3.9</td>\n",
       "      <td>7</td>\n",
       "      <td>0</td>\n",
       "      <td>NaN</td>\n",
       "      <td>NaN</td>\n",
       "      <td>NaN</td>\n",
       "    </tr>\n",
       "    <tr>\n",
       "      <th>1</th>\n",
       "      <td>BLODYGFS6D4CZZDZ</td>\n",
       "      <td>Inblue Fashions Round Neck Women's Stitched Bl...</td>\n",
       "      <td>Inblue Fashions Black &amp; White lace Silk Blouse...</td>\n",
       "      <td>http://img.fkcdn.com/image/blouse/q/z/m/inbblu...</td>\n",
       "      <td>3098.0</td>\n",
       "      <td>1550.0</td>\n",
       "      <td>1550.0</td>\n",
       "      <td>http://dl.flipkart.com/dl/inblue-fashions-roun...</td>\n",
       "      <td>Apparels&gt;Women&gt;Ethnic Wear&gt;Blouses</td>\n",
       "      <td>Inblue Fashions</td>\n",
       "      <td>...</td>\n",
       "      <td>Round Neck;Fabric: Silk;Pattern: Floral Print</td>\n",
       "      <td>Round Neck;Fabric: Silk;Pattern: Floral Print</td>\n",
       "      <td>NaN</td>\n",
       "      <td>Inblue Fashions</td>\n",
       "      <td>4.2</td>\n",
       "      <td>23</td>\n",
       "      <td>1</td>\n",
       "      <td>NaN</td>\n",
       "      <td>Round Neck</td>\n",
       "      <td>NaN</td>\n",
       "    </tr>\n",
       "    <tr>\n",
       "      <th>2</th>\n",
       "      <td>BLODYGFSHBVBKJUK</td>\n",
       "      <td>Inblue Fashions Round Neck Women's Stitched Bl...</td>\n",
       "      <td>Inblue Fashions Black &amp; White lace Silk Blouse...</td>\n",
       "      <td>http://img.fkcdn.com/image/blouse/q/z/m/inbblu...</td>\n",
       "      <td>3098.0</td>\n",
       "      <td>1549.0</td>\n",
       "      <td>1549.0</td>\n",
       "      <td>http://dl.flipkart.com/dl/inblue-fashions-roun...</td>\n",
       "      <td>Apparels&gt;Women&gt;Ethnic Wear&gt;Blouses</td>\n",
       "      <td>Inblue Fashions</td>\n",
       "      <td>...</td>\n",
       "      <td>Round Neck;Fabric: Silk;Pattern: Floral Print</td>\n",
       "      <td>Round Neck;Fabric: Silk;Pattern: Floral Print</td>\n",
       "      <td>NaN</td>\n",
       "      <td>Inblue Fashions</td>\n",
       "      <td>4.2</td>\n",
       "      <td>23</td>\n",
       "      <td>1</td>\n",
       "      <td>NaN</td>\n",
       "      <td>Round Neck</td>\n",
       "      <td>NaN</td>\n",
       "    </tr>\n",
       "    <tr>\n",
       "      <th>3</th>\n",
       "      <td>BLODYGFSRTZAWHHE</td>\n",
       "      <td>Inblue Fashions Round Neck Women's Stitched Bl...</td>\n",
       "      <td>Inblue Fashions Black &amp; White lace Silk Blouse...</td>\n",
       "      <td>http://img.fkcdn.com/image/blouse/q/z/m/inbblu...</td>\n",
       "      <td>3098.0</td>\n",
       "      <td>1549.0</td>\n",
       "      <td>1549.0</td>\n",
       "      <td>http://dl.flipkart.com/dl/inblue-fashions-roun...</td>\n",
       "      <td>Apparels&gt;Women&gt;Ethnic Wear&gt;Blouses</td>\n",
       "      <td>Inblue Fashions</td>\n",
       "      <td>...</td>\n",
       "      <td>Round Neck;Fabric: Silk;Pattern: Floral Print</td>\n",
       "      <td>Round Neck;Fabric: Silk;Pattern: Floral Print</td>\n",
       "      <td>NaN</td>\n",
       "      <td>Inblue Fashions</td>\n",
       "      <td>4.2</td>\n",
       "      <td>23</td>\n",
       "      <td>1</td>\n",
       "      <td>NaN</td>\n",
       "      <td>Round Neck</td>\n",
       "      <td>NaN</td>\n",
       "    </tr>\n",
       "    <tr>\n",
       "      <th>4</th>\n",
       "      <td>BLODYGFSFARJXJB2</td>\n",
       "      <td>Inblue Fashions Round Neck Women's Stitched Bl...</td>\n",
       "      <td>Inblue Fashions Black &amp; White lace Silk Blouse...</td>\n",
       "      <td>http://img.fkcdn.com/image/blouse/q/z/m/inbblu...</td>\n",
       "      <td>3098.0</td>\n",
       "      <td>1550.0</td>\n",
       "      <td>1550.0</td>\n",
       "      <td>http://dl.flipkart.com/dl/inblue-fashions-roun...</td>\n",
       "      <td>Apparels&gt;Women&gt;Ethnic Wear&gt;Blouses</td>\n",
       "      <td>Inblue Fashions</td>\n",
       "      <td>...</td>\n",
       "      <td>Round Neck;Fabric: Silk;Pattern: Floral Print</td>\n",
       "      <td>Round Neck;Fabric: Silk;Pattern: Floral Print</td>\n",
       "      <td>NaN</td>\n",
       "      <td>Inblue Fashions</td>\n",
       "      <td>4.2</td>\n",
       "      <td>23</td>\n",
       "      <td>1</td>\n",
       "      <td>NaN</td>\n",
       "      <td>Round Neck</td>\n",
       "      <td>NaN</td>\n",
       "    </tr>\n",
       "  </tbody>\n",
       "</table>\n",
       "<p>5 rows × 32 columns</p>\n",
       "</div>"
      ],
      "text/plain": [
       "          productId                                              title  \\\n",
       "0  SPWE7T5EF93UGMZZ      Smilzo Saree Panty Slp/2808 Women's Shapewear   \n",
       "1  BLODYGFS6D4CZZDZ  Inblue Fashions Round Neck Women's Stitched Bl...   \n",
       "2  BLODYGFSHBVBKJUK  Inblue Fashions Round Neck Women's Stitched Bl...   \n",
       "3  BLODYGFSRTZAWHHE  Inblue Fashions Round Neck Women's Stitched Bl...   \n",
       "4  BLODYGFSFARJXJB2  Inblue Fashions Round Neck Women's Stitched Bl...   \n",
       "\n",
       "                                         description  \\\n",
       "0  The wide and comfortable of Fashion Shapewears...   \n",
       "1  Inblue Fashions Black & White lace Silk Blouse...   \n",
       "2  Inblue Fashions Black & White lace Silk Blouse...   \n",
       "3  Inblue Fashions Black & White lace Silk Blouse...   \n",
       "4  Inblue Fashions Black & White lace Silk Blouse...   \n",
       "\n",
       "                                         imageUrlStr     mrp  sellingPrice  \\\n",
       "0  http://img.fkcdn.com/image/shapewear/x/7/7/slp...   799.0         798.0   \n",
       "1  http://img.fkcdn.com/image/blouse/q/z/m/inbblu...  3098.0        1550.0   \n",
       "2  http://img.fkcdn.com/image/blouse/q/z/m/inbblu...  3098.0        1549.0   \n",
       "3  http://img.fkcdn.com/image/blouse/q/z/m/inbblu...  3098.0        1549.0   \n",
       "4  http://img.fkcdn.com/image/blouse/q/z/m/inbblu...  3098.0        1550.0   \n",
       "\n",
       "   specialPrice                                         productUrl  \\\n",
       "0         798.0  http://dl.flipkart.com/dl/smilzo-saree-panty-s...   \n",
       "1        1550.0  http://dl.flipkart.com/dl/inblue-fashions-roun...   \n",
       "2        1549.0  http://dl.flipkart.com/dl/inblue-fashions-roun...   \n",
       "3        1549.0  http://dl.flipkart.com/dl/inblue-fashions-roun...   \n",
       "4        1550.0  http://dl.flipkart.com/dl/inblue-fashions-roun...   \n",
       "\n",
       "                                       categories     productBrand   ...     \\\n",
       "0  Apparels>Women>Lingerie & Sleepwear>Shapewears           Smilzo   ...      \n",
       "1              Apparels>Women>Ethnic Wear>Blouses  Inblue Fashions   ...      \n",
       "2              Apparels>Women>Ethnic Wear>Blouses  Inblue Fashions   ...      \n",
       "3              Apparels>Women>Ethnic Wear>Blouses  Inblue Fashions   ...      \n",
       "4              Apparels>Women>Ethnic Wear>Blouses  Inblue Fashions   ...      \n",
       "\n",
       "                                         keySpecsStr  \\\n",
       "0  Type: Shapewear Briefs;Women's Shapewear;Fabri...   \n",
       "1      Round Neck;Fabric: Silk;Pattern: Floral Print   \n",
       "2      Round Neck;Fabric: Silk;Pattern: Floral Print   \n",
       "3      Round Neck;Fabric: Silk;Pattern: Floral Print   \n",
       "4      Round Neck;Fabric: Silk;Pattern: Floral Print   \n",
       "\n",
       "                                    detailedSpecsStr  specificationList  \\\n",
       "0  Type: Shapewear Briefs;Women's Shapewear;Fabri...                NaN   \n",
       "1      Round Neck;Fabric: Silk;Pattern: Floral Print                NaN   \n",
       "2      Round Neck;Fabric: Silk;Pattern: Floral Print                NaN   \n",
       "3      Round Neck;Fabric: Silk;Pattern: Floral Print                NaN   \n",
       "4      Round Neck;Fabric: Silk;Pattern: Floral Print                NaN   \n",
       "\n",
       "                      sellerName  sellerAverageRating  sellerNoOfRatings  \\\n",
       "0  SHAPING SYSTEMS INDIA PVT LTD                  3.9                  7   \n",
       "1                Inblue Fashions                  4.2                 23   \n",
       "2                Inblue Fashions                  4.2                 23   \n",
       "3                Inblue Fashions                  4.2                 23   \n",
       "4                Inblue Fashions                  4.2                 23   \n",
       "\n",
       "  sellerNoOfReviews sleeve        neck idealFor  \n",
       "0                 0    NaN         NaN      NaN  \n",
       "1                 1    NaN  Round Neck      NaN  \n",
       "2                 1    NaN  Round Neck      NaN  \n",
       "3                 1    NaN  Round Neck      NaN  \n",
       "4                 1    NaN  Round Neck      NaN  \n",
       "\n",
       "[5 rows x 32 columns]"
      ]
     },
     "execution_count": 164,
     "metadata": {},
     "output_type": "execute_result"
    }
   ],
   "source": [
    "data.head()"
   ]
  },
  {
   "cell_type": "code",
   "execution_count": 165,
   "metadata": {},
   "outputs": [
    {
     "data": {
      "text/html": [
       "<div>\n",
       "<style scoped>\n",
       "    .dataframe tbody tr th:only-of-type {\n",
       "        vertical-align: middle;\n",
       "    }\n",
       "\n",
       "    .dataframe tbody tr th {\n",
       "        vertical-align: top;\n",
       "    }\n",
       "\n",
       "    .dataframe thead th {\n",
       "        text-align: right;\n",
       "    }\n",
       "</style>\n",
       "<table border=\"1\" class=\"dataframe\">\n",
       "  <thead>\n",
       "    <tr style=\"text-align: right;\">\n",
       "      <th></th>\n",
       "      <th>productId</th>\n",
       "      <th>title</th>\n",
       "      <th>description</th>\n",
       "      <th>imageUrlStr</th>\n",
       "      <th>mrp</th>\n",
       "      <th>sellingPrice</th>\n",
       "      <th>specialPrice</th>\n",
       "      <th>productUrl</th>\n",
       "      <th>categories</th>\n",
       "      <th>productBrand</th>\n",
       "      <th>...</th>\n",
       "      <th>keySpecsStr</th>\n",
       "      <th>detailedSpecsStr</th>\n",
       "      <th>specificationList</th>\n",
       "      <th>sellerName</th>\n",
       "      <th>sellerAverageRating</th>\n",
       "      <th>sellerNoOfRatings</th>\n",
       "      <th>sellerNoOfReviews</th>\n",
       "      <th>sleeve</th>\n",
       "      <th>neck</th>\n",
       "      <th>idealFor</th>\n",
       "    </tr>\n",
       "  </thead>\n",
       "  <tbody>\n",
       "    <tr>\n",
       "      <th>1995</th>\n",
       "      <td>SARDP7YVJB7W7PGG</td>\n",
       "      <td>De Marca Solid Art Silk, Jacquard Sari(Multico...</td>\n",
       "      <td>Traditionally Printed Art Silk Saree.</td>\n",
       "      <td>http://img.fkcdn.com/image/sari/p/g/g/107b2-de...</td>\n",
       "      <td>3681.0</td>\n",
       "      <td>1399.0</td>\n",
       "      <td>1399.0</td>\n",
       "      <td>http://dl.flipkart.com/dl/de-marca-solid-art-s...</td>\n",
       "      <td>Apparels&gt;Women&gt;Ethnic Wear&gt;Saris</td>\n",
       "      <td>De Marca</td>\n",
       "      <td>...</td>\n",
       "      <td>Saree Fabric: Art Silk, Jacquard;With Blouse P...</td>\n",
       "      <td>Saree Fabric: Art Silk, Jacquard;With Blouse P...</td>\n",
       "      <td>NaN</td>\n",
       "      <td>Rubab Humza</td>\n",
       "      <td>3.900000</td>\n",
       "      <td>72</td>\n",
       "      <td>7</td>\n",
       "      <td>NaN</td>\n",
       "      <td>NaN</td>\n",
       "      <td>NaN</td>\n",
       "    </tr>\n",
       "    <tr>\n",
       "      <th>1996</th>\n",
       "      <td>SARDP7YVMPETMNMQ</td>\n",
       "      <td>De Marca Printed Chiffon Sari(Multicolor)</td>\n",
       "      <td>Faux Chiffon Printed Sarees With Blouse Piece.</td>\n",
       "      <td>http://img.fkcdn.com/image/sari/n/m/q/c-30-de-...</td>\n",
       "      <td>2628.0</td>\n",
       "      <td>999.0</td>\n",
       "      <td>999.0</td>\n",
       "      <td>http://dl.flipkart.com/dl/de-marca-printed-chi...</td>\n",
       "      <td>Apparels&gt;Women&gt;Ethnic Wear&gt;Saris</td>\n",
       "      <td>De Marca</td>\n",
       "      <td>...</td>\n",
       "      <td>Saree Fabric: Chiffon;With Blouse Piece</td>\n",
       "      <td>Saree Fabric: Chiffon;With Blouse Piece</td>\n",
       "      <td>NaN</td>\n",
       "      <td>Rubab Humza</td>\n",
       "      <td>3.900000</td>\n",
       "      <td>72</td>\n",
       "      <td>7</td>\n",
       "      <td>NaN</td>\n",
       "      <td>NaN</td>\n",
       "      <td>NaN</td>\n",
       "    </tr>\n",
       "    <tr>\n",
       "      <th>1997</th>\n",
       "      <td>SARE6CYW6QCZMFCE</td>\n",
       "      <td>Nilu Tex Self Design Daily Wear Handloom Georg...</td>\n",
       "      <td>NaN</td>\n",
       "      <td>http://img.fkcdn.com/image/sari/f/c/e/1-1-ntsh...</td>\n",
       "      <td>4100.0</td>\n",
       "      <td>2599.0</td>\n",
       "      <td>2599.0</td>\n",
       "      <td>http://dl.flipkart.com/dl/nilu-tex-self-design...</td>\n",
       "      <td>Apparels&gt;Women&gt;Ethnic Wear&gt;Saris</td>\n",
       "      <td>Nilu Tex</td>\n",
       "      <td>...</td>\n",
       "      <td>Style: Sari;Saree Fabric: Georgette;Blouse Fab...</td>\n",
       "      <td>Style: Sari;Saree Fabric: Georgette;Blouse Fab...</td>\n",
       "      <td>NaN</td>\n",
       "      <td>NILU</td>\n",
       "      <td>0.000000</td>\n",
       "      <td>0</td>\n",
       "      <td>0</td>\n",
       "      <td>NaN</td>\n",
       "      <td>NaN</td>\n",
       "      <td>NaN</td>\n",
       "    </tr>\n",
       "    <tr>\n",
       "      <th>1998</th>\n",
       "      <td>SARE4DVYBR2TCC2G</td>\n",
       "      <td>Soni Sarees Printed Fashion Handloom Pure Geor...</td>\n",
       "      <td>Multi color( Yellow, Blue, pink,green) with ab...</td>\n",
       "      <td>http://img.fkcdn.com/image/sari/c/2/g/ssp062-s...</td>\n",
       "      <td>599.0</td>\n",
       "      <td>399.0</td>\n",
       "      <td>399.0</td>\n",
       "      <td>http://dl.flipkart.com/dl/soni-sarees-printed-...</td>\n",
       "      <td>Apparels&gt;Women&gt;Ethnic Wear&gt;Saris</td>\n",
       "      <td>Soni Sarees</td>\n",
       "      <td>...</td>\n",
       "      <td>With Blouse Piece;Fashion Sari;Pure Georgette;...</td>\n",
       "      <td>NaN</td>\n",
       "      <td>NaN</td>\n",
       "      <td>SSProducts</td>\n",
       "      <td>3.666667</td>\n",
       "      <td>6</td>\n",
       "      <td>2</td>\n",
       "      <td>NaN</td>\n",
       "      <td>NaN</td>\n",
       "      <td>NaN</td>\n",
       "    </tr>\n",
       "    <tr>\n",
       "      <th>1999</th>\n",
       "      <td>SARE43HF8CSVK5BH</td>\n",
       "      <td>Celebez Embroidered Fashion Handloom Satin Sar...</td>\n",
       "      <td>NaN</td>\n",
       "      <td>http://img.fkcdn.com/image/sari/5/b/h/celea016...</td>\n",
       "      <td>7800.0</td>\n",
       "      <td>3200.0</td>\n",
       "      <td>3200.0</td>\n",
       "      <td>http://dl.flipkart.com/dl/celebez-embroidered-...</td>\n",
       "      <td>Apparels&gt;Women&gt;Ethnic Wear&gt;Saris</td>\n",
       "      <td>Celebez</td>\n",
       "      <td>...</td>\n",
       "      <td>Saree Fabric: Satin;Type: Fashion</td>\n",
       "      <td>Saree Fabric: Satin;Type: Fashion</td>\n",
       "      <td>NaN</td>\n",
       "      <td>sarfaraz ansari</td>\n",
       "      <td>3.000000</td>\n",
       "      <td>2</td>\n",
       "      <td>0</td>\n",
       "      <td>NaN</td>\n",
       "      <td>NaN</td>\n",
       "      <td>NaN</td>\n",
       "    </tr>\n",
       "  </tbody>\n",
       "</table>\n",
       "<p>5 rows × 32 columns</p>\n",
       "</div>"
      ],
      "text/plain": [
       "             productId                                              title  \\\n",
       "1995  SARDP7YVJB7W7PGG  De Marca Solid Art Silk, Jacquard Sari(Multico...   \n",
       "1996  SARDP7YVMPETMNMQ          De Marca Printed Chiffon Sari(Multicolor)   \n",
       "1997  SARE6CYW6QCZMFCE  Nilu Tex Self Design Daily Wear Handloom Georg...   \n",
       "1998  SARE4DVYBR2TCC2G  Soni Sarees Printed Fashion Handloom Pure Geor...   \n",
       "1999  SARE43HF8CSVK5BH  Celebez Embroidered Fashion Handloom Satin Sar...   \n",
       "\n",
       "                                            description  \\\n",
       "1995              Traditionally Printed Art Silk Saree.   \n",
       "1996     Faux Chiffon Printed Sarees With Blouse Piece.   \n",
       "1997                                                NaN   \n",
       "1998  Multi color( Yellow, Blue, pink,green) with ab...   \n",
       "1999                                                NaN   \n",
       "\n",
       "                                            imageUrlStr     mrp  sellingPrice  \\\n",
       "1995  http://img.fkcdn.com/image/sari/p/g/g/107b2-de...  3681.0        1399.0   \n",
       "1996  http://img.fkcdn.com/image/sari/n/m/q/c-30-de-...  2628.0         999.0   \n",
       "1997  http://img.fkcdn.com/image/sari/f/c/e/1-1-ntsh...  4100.0        2599.0   \n",
       "1998  http://img.fkcdn.com/image/sari/c/2/g/ssp062-s...   599.0         399.0   \n",
       "1999  http://img.fkcdn.com/image/sari/5/b/h/celea016...  7800.0        3200.0   \n",
       "\n",
       "      specialPrice                                         productUrl  \\\n",
       "1995        1399.0  http://dl.flipkart.com/dl/de-marca-solid-art-s...   \n",
       "1996         999.0  http://dl.flipkart.com/dl/de-marca-printed-chi...   \n",
       "1997        2599.0  http://dl.flipkart.com/dl/nilu-tex-self-design...   \n",
       "1998         399.0  http://dl.flipkart.com/dl/soni-sarees-printed-...   \n",
       "1999        3200.0  http://dl.flipkart.com/dl/celebez-embroidered-...   \n",
       "\n",
       "                            categories productBrand   ...     \\\n",
       "1995  Apparels>Women>Ethnic Wear>Saris     De Marca   ...      \n",
       "1996  Apparels>Women>Ethnic Wear>Saris     De Marca   ...      \n",
       "1997  Apparels>Women>Ethnic Wear>Saris     Nilu Tex   ...      \n",
       "1998  Apparels>Women>Ethnic Wear>Saris  Soni Sarees   ...      \n",
       "1999  Apparels>Women>Ethnic Wear>Saris      Celebez   ...      \n",
       "\n",
       "                                            keySpecsStr  \\\n",
       "1995  Saree Fabric: Art Silk, Jacquard;With Blouse P...   \n",
       "1996            Saree Fabric: Chiffon;With Blouse Piece   \n",
       "1997  Style: Sari;Saree Fabric: Georgette;Blouse Fab...   \n",
       "1998  With Blouse Piece;Fashion Sari;Pure Georgette;...   \n",
       "1999                  Saree Fabric: Satin;Type: Fashion   \n",
       "\n",
       "                                       detailedSpecsStr  specificationList  \\\n",
       "1995  Saree Fabric: Art Silk, Jacquard;With Blouse P...                NaN   \n",
       "1996            Saree Fabric: Chiffon;With Blouse Piece                NaN   \n",
       "1997  Style: Sari;Saree Fabric: Georgette;Blouse Fab...                NaN   \n",
       "1998                                                NaN                NaN   \n",
       "1999                  Saree Fabric: Satin;Type: Fashion                NaN   \n",
       "\n",
       "           sellerName  sellerAverageRating  sellerNoOfRatings  \\\n",
       "1995      Rubab Humza             3.900000                 72   \n",
       "1996      Rubab Humza             3.900000                 72   \n",
       "1997             NILU             0.000000                  0   \n",
       "1998       SSProducts             3.666667                  6   \n",
       "1999  sarfaraz ansari             3.000000                  2   \n",
       "\n",
       "     sellerNoOfReviews sleeve neck idealFor  \n",
       "1995                 7    NaN  NaN      NaN  \n",
       "1996                 7    NaN  NaN      NaN  \n",
       "1997                 0    NaN  NaN      NaN  \n",
       "1998                 2    NaN  NaN      NaN  \n",
       "1999                 0    NaN  NaN      NaN  \n",
       "\n",
       "[5 rows x 32 columns]"
      ]
     },
     "execution_count": 165,
     "metadata": {},
     "output_type": "execute_result"
    }
   ],
   "source": [
    "data.tail()"
   ]
  },
  {
   "cell_type": "code",
   "execution_count": 170,
   "metadata": {},
   "outputs": [
    {
     "data": {
      "text/plain": [
       "'http://img.fkcdn.com/image/tunic/j/g/m/1-1-black-high-low-loose-fit-tunic-lastinch-m-original-imae7fr7vpqfpvr9.jpeg;http://img.fkcdn.com/image/tunic/j/g/m/1-1-black-high-low-loose-fit-tunic-lastinch-m-200x200-imae7fr7vpqfpvr9.jpeg;http://img.fkcdn.com/image/tunic/j/g/m/1-1-black-high-low-loose-fit-tunic-lastinch-m-400x400-imae7fr7vpqfpvr9.jpeg;http://img.fkcdn.com/image/tunic/j/g/m/1-1-black-high-low-loose-fit-tunic-lastinch-m-800x800-imae7fr7vpqfpvr9.jpeg'"
      ]
     },
     "execution_count": 170,
     "metadata": {},
     "output_type": "execute_result"
    }
   ],
   "source": [
    "data.imageUrlStr[189]"
   ]
  },
  {
   "cell_type": "code",
   "execution_count": null,
   "metadata": {
    "collapsed": true
   },
   "outputs": [],
   "source": []
  },
  {
   "cell_type": "code",
   "execution_count": null,
   "metadata": {
    "collapsed": true
   },
   "outputs": [],
   "source": []
  },
  {
   "cell_type": "code",
   "execution_count": 130,
   "metadata": {},
   "outputs": [],
   "source": [
    "import pandas as pd\n",
    "import time"
   ]
  },
  {
   "cell_type": "code",
   "execution_count": 131,
   "metadata": {},
   "outputs": [
    {
     "data": {
      "text/plain": [
       "0.9812238216400146"
      ]
     },
     "execution_count": 131,
     "metadata": {},
     "output_type": "execute_result"
    }
   ],
   "source": [
    "t1=time.time()\n",
    "data = pd.read_csv('./../../Transfer_Learning/Bottle_neck_values.csv')\n",
    "t2=time.time()\n",
    "\n",
    "t2-t1"
   ]
  },
  {
   "cell_type": "code",
   "execution_count": 125,
   "metadata": {
    "collapsed": true
   },
   "outputs": [],
   "source": [
    "data =np.array(data)"
   ]
  },
  {
   "cell_type": "code",
   "execution_count": 127,
   "metadata": {},
   "outputs": [
    {
     "data": {
      "text/plain": [
       "(1200, 2048)"
      ]
     },
     "execution_count": 127,
     "metadata": {},
     "output_type": "execute_result"
    }
   ],
   "source": [
    "data.shape"
   ]
  },
  {
   "cell_type": "code",
   "execution_count": 126,
   "metadata": {
    "collapsed": true
   },
   "outputs": [],
   "source": [
    "np.save('./../../Transfer_Learning/fnumpy.npy', data)"
   ]
  },
  {
   "cell_type": "code",
   "execution_count": 132,
   "metadata": {},
   "outputs": [
    {
     "data": {
      "text/plain": [
       "0.011577129364013672"
      ]
     },
     "execution_count": 132,
     "metadata": {},
     "output_type": "execute_result"
    }
   ],
   "source": [
    "t1=time.time()\n",
    "array_reloaded = np.load('./../../Transfer_Learning/fnumpy.npy').reshape(1200, 2048)\n",
    "t2=time.time()\n",
    "t2-t1"
   ]
  },
  {
   "cell_type": "code",
   "execution_count": 133,
   "metadata": {},
   "outputs": [
    {
     "data": {
      "text/plain": [
       "1979.1666666666667"
      ]
     },
     "execution_count": 133,
     "metadata": {},
     "output_type": "execute_result"
    }
   ],
   "source": [
    "5000*19/48"
   ]
  },
  {
   "cell_type": "code",
   "execution_count": null,
   "metadata": {
    "collapsed": true
   },
   "outputs": [],
   "source": []
  },
  {
   "cell_type": "code",
   "execution_count": null,
   "metadata": {
    "collapsed": true
   },
   "outputs": [],
   "source": []
  },
  {
   "cell_type": "code",
   "execution_count": null,
   "metadata": {
    "collapsed": true
   },
   "outputs": [],
   "source": []
  },
  {
   "cell_type": "code",
   "execution_count": null,
   "metadata": {
    "collapsed": true
   },
   "outputs": [],
   "source": []
  },
  {
   "cell_type": "code",
   "execution_count": null,
   "metadata": {
    "collapsed": true
   },
   "outputs": [],
   "source": []
  },
  {
   "cell_type": "code",
   "execution_count": null,
   "metadata": {
    "collapsed": true
   },
   "outputs": [],
   "source": []
  }
 ],
 "metadata": {
  "kernelspec": {
   "display_name": "Python 3",
   "language": "python",
   "name": "python3"
  },
  "language_info": {
   "codemirror_mode": {
    "name": "ipython",
    "version": 3
   },
   "file_extension": ".py",
   "mimetype": "text/x-python",
   "name": "python",
   "nbconvert_exporter": "python",
   "pygments_lexer": "ipython3",
   "version": "3.6.3"
  }
 },
 "nbformat": 4,
 "nbformat_minor": 2
}
